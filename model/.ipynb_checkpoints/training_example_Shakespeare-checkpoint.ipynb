{
 "cells": [
  {
   "cell_type": "code",
   "execution_count": 83,
   "metadata": {
    "id": "xwCpGWgD_a-Z"
   },
   "outputs": [],
   "source": [
    "import string\n",
    "import numpy as np\n",
    "import torch, torch.nn as nn\n",
    "import torch.nn.functional as F\n",
    "import random\n",
    "from IPython.display import clear_output\n",
    "import matplotlib.pyplot as plt\n",
    "%matplotlib inline"
   ]
  },
  {
   "cell_type": "code",
   "execution_count": 84,
   "metadata": {
    "id": "zKiQIzS6tWzF"
   },
   "outputs": [],
   "source": [
    "from dataset import Dataset\n",
    "from model import CharLSTMLoop_hidden"
   ]
  },
  {
   "cell_type": "code",
   "execution_count": 86,
   "metadata": {
    "id": "Wp7aaH4-ssfU"
   },
   "outputs": [],
   "source": [
    "ds = Dataset('sonnets_upd.txt')\n",
    "model = CharLSTMLoop_hidden(num_tokens=ds.num_tokens)\n",
    "if (torch.cuda.is_available()):\n",
    "  model = model.cuda()\n",
    "opt = torch.optim.Adam(model.parameters())"
   ]
  },
  {
   "cell_type": "code",
   "execution_count": 88,
   "metadata": {
    "colab": {
     "base_uri": "https://localhost:8080/",
     "height": 286
    },
    "id": "2qJLpfIXD0gS",
    "outputId": "e5db7823-b691-421e-f498-49aa16c65472"
   },
   "outputs": [
    {
     "data": {
      "image/png": "[encoded data removed]",
      "text/plain": [
       "<Figure size 432x288 with 1 Axes>"
      ]
     },
     "metadata": {
      "needs_background": "light",
      "tags": []
     },
     "output_type": "display_data"
    }
   ],
   "source": [
    "seq_size=32\n",
    "batch_size=16\n",
    "\n",
    "\n",
    "idx_text = [token_to_idx[w] for w in text]\n",
    "num_batches = len(idx_text) // (seq_size * batch_size)\n",
    "in_text = idx_text[:num_batches * batch_size * seq_size]\n",
    "out_text = np.zeros_like(in_text)\n",
    "out_text[:-1] = in_text[1:]\n",
    "out_text[-1] = in_text[0]\n",
    "\n",
    "in_text = np.reshape(in_text, (batch_size, -1))\n",
    "out_text = np.reshape(out_text, (batch_size, -1))\n",
    "\n",
    "\n",
    "history = []\n",
    "\n",
    "\n",
    "h = model.init_hidden(batch_size)\n",
    "for i in range(10000):\n",
    "    i = random.randint(0, num_batches)\n",
    "    batch_ix = in_text[:, i:i+seq_size]\n",
    "    batch_ix = torch.tensor(batch_ix, dtype=torch.int64)\n",
    "    if (torch.cuda.is_available()):\n",
    "      batch_ix = batch_ix.cuda()\n",
    "\n",
    "    # print(batch_ix.size())\n",
    "    #h.detach_()\n",
    "    if (torch.cuda.is_available()):\n",
    "      h = tuple([e.data.cuda() for e in h])\n",
    "    else:\n",
    "      h = tuple([e.data for e in h])\n",
    "\n",
    "\n",
    "    logp_seq, h = model(batch_ix, h)\n",
    "\n",
    "\n",
    "    \n",
    "    # compute loss\n",
    "\n",
    "    predictions_logp = logp_seq[:, :-1]\n",
    "    actual_next_tokens = batch_ix[:, 1:]\n",
    "\n",
    "    \n",
    "    \n",
    "    # train with backprop\n",
    "\n",
    "    logp_next = torch.gather(predictions_logp, dim=2, index=actual_next_tokens[:,:,None])\n",
    "\n",
    "    loss = -logp_next.mean()\n",
    "    loss.backward()\n",
    "    opt.step()\n",
    "    opt.zero_grad()\n",
    "    if (torch.cuda.is_available()):\n",
    "      history.append(loss.cpu().data.numpy())\n",
    "    else:\n",
    "      history.append(loss.data.numpy())\n",
    "    \n",
    "    if (i+1)%100==0:\n",
    "        clear_output(True)\n",
    "        plt.plot(history,label='loss')\n",
    "        plt.legend()\n",
    "        plt.show()\n",
    "        torch.save(model.state_dict(), 'model_lstm_hidden.pth')\n",
    "        torch.save(opt.state_dict(), 'optimizer_lstm_hidden.pth')\n"
   ]
  },
  {
   "cell_type": "code",
   "execution_count": 91,
   "metadata": {
    "colab": {
     "base_uri": "https://localhost:8080/"
    },
    "id": "0Jz52T3WD7LJ",
    "outputId": "3791eed0-82e8-481d-c70f-34b2846feecf"
   },
   "outputs": [
    {
     "name": "stdout",
     "output_type": "stream",
     "text": [
      "andrey bibak dumose that god for ep the show ix , and sunst agree than that tongue that thy lie,--\n",
      "  a creast your slave,\n",
      "  i should in thave, ang the eloquence\n",
      "  and that when i in earth altaifest full flame should autenbires tu hast thou timp doth wer doth shormd to me best,\n",
      "   and racks iss that parakt thy fair appy thope that she forks my might,\n",
      "  with insufficiency my hear sthough i should by the beautyo    although she knecres cleart thourir this that pear not i thine own,\n",
      "  in ompend:\n",
      "  but a beauty\n"
     ]
    }
   ],
   "source": [
    "print(str(generate_text_hidden(length=500, model=model, dataset=ds, initial='andrey biba')))"
   ]
  },
  {
   "cell_type": "code",
   "execution_count": null,
   "metadata": {
    "id": "s48sa-05csaC"
   },
   "outputs": [],
   "source": []
  }
 ],
 "metadata": {
  "accelerator": "GPU",
  "colab": {
   "collapsed_sections": [],
   "name": "Shakespeare.ipynb",
   "provenance": []
  },
  "kernelspec": {
   "display_name": "Python 3 (ipykernel)",
   "language": "python",
   "name": "python3"
  },
  "language_info": {
   "codemirror_mode": {
    "name": "ipython",
    "version": 3
   },
   "file_extension": ".py",
   "mimetype": "text/x-python",
   "name": "python",
   "nbconvert_exporter": "python",
   "pygments_lexer": "ipython3",
   "version": "3.8.10"
  }
 },
 "nbformat": 4,
 "nbformat_minor": 1
}
